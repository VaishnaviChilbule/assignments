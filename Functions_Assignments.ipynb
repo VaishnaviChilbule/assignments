{
 "cells": [
  {
   "cell_type": "code",
   "execution_count": null,
   "metadata": {
    "colab": {
     "base_uri": "https://localhost:8080/"
    },
    "id": "gfNPbm06Bh_4",
    "outputId": "62db93dc-e500-44d4-99bb-6dd061886302"
   },
   "outputs": [
    {
     "name": "stdout",
     "output_type": "stream",
     "text": [
      "Enter number of seconds :48900\n",
      "13 : 35 : 0\n"
     ]
    }
   ],
   "source": [
    "sec=int(input(\"Enter number of seconds :\"))\n",
    "hr=sec//3660\n",
    "r1=sec%3600\n",
    "min=r1//60\n",
    "r2=sec%60\n",
    "s=r2\n",
    "print(hr,\":\",min,\":\",s)\n",
    "\n"
   ]
  },
  {
   "cell_type": "code",
   "execution_count": null,
   "metadata": {
    "colab": {
     "base_uri": "https://localhost:8080/"
    },
    "id": "McS0rF0waVUr",
    "outputId": "0d95290a-d146-4253-aa0c-0773a8cc3c72"
   },
   "outputs": [
    {
     "name": "stdout",
     "output_type": "stream",
     "text": [
      "List of leap years between 2000-2100 :\n",
      "2000\n",
      "2004\n",
      "2008\n",
      "2012\n",
      "2016\n",
      "2020\n",
      "2024\n",
      "2028\n",
      "2032\n",
      "2036\n",
      "2040\n",
      "2044\n",
      "2048\n",
      "2052\n",
      "2056\n",
      "2060\n",
      "2064\n",
      "2068\n",
      "2072\n",
      "2076\n",
      "2080\n",
      "2084\n",
      "2088\n",
      "2092\n",
      "2096\n"
     ]
    }
   ],
   "source": [
    "print(\"List of leap years between 2000-2100 :\")\n",
    "for i in range(1999,2100):\n",
    "    if((i%4==0)and(i%100!=0))or(i%400==0):\n",
    "        print(i)\n"
   ]
  },
  {
   "cell_type": "markdown",
   "metadata": {
    "id": "4FqMhGu8j2CW"
   },
   "source": [
    "1. Write function which takes two parameters account no and name of the user.\n",
    "Check if the account number is valid. Account no is valid only if it is a 4 digit number less than 5000\n",
    "Check if the name is valid. Name is valid if all characters are alphabets and no numbers or special chars in the name\n",
    "If both name and 'acc no' are valid return True\n",
    "If acc no is invalid return a message string saying “Account no is invalid”\n",
    "if name is invalid return None\n"
   ]
  },
  {
   "cell_type": "code",
   "execution_count": null,
   "metadata": {
    "colab": {
     "base_uri": "https://localhost:8080/",
     "height": 70
    },
    "id": "-JztyDkqj5aV",
    "outputId": "3f5029a4-b944-4579-bc61-77ef350b35ca"
   },
   "outputs": [
    {
     "name": "stdout",
     "output_type": "stream",
     "text": [
      "Enter account number 0009\n",
      "Enter name :disha\n"
     ]
    },
    {
     "data": {
      "application/vnd.google.colaboratory.intrinsic+json": {
       "type": "string"
      },
      "text/plain": [
       "'Account number is invalid :'"
      ]
     },
     "execution_count": 8,
     "metadata": {},
     "output_type": "execute_result"
    }
   ],
   "source": [
    "def acct(no,name):\n",
    "    n1=int(no)\n",
    "    if(len(no)==4)and(999<n1<5000):\n",
    "        if(name.isalpha()==True):\n",
    "            return True\n",
    "        else:\n",
    "            return 'None'\n",
    "    else:\n",
    "        return \"Account number is invalid :\"\n",
    "\n",
    "No=input(\"Enter account number \")\n",
    "Name=input(\"Enter name :\")\n",
    "acct(No,Name)"
   ]
  },
  {
   "cell_type": "markdown",
   "metadata": {
    "id": "bntpxOC6qcvJ"
   },
   "source": [
    "2. WA function to calculate total salary given that\n",
    "1. post      2. basic salary\n",
    "rules:\n",
    "post can be manager or employee\n",
    "total sal = basic + TA + HRA\n",
    "TA = 5000 for 'manager'\n",
    "and TA = 10,000 for 'employee'\n",
    "HRA = 20,000 for 'manager' and HRA = 12,000 for 'employee'\n",
    "\n",
    "return total salary based on two parameters\n"
   ]
  },
  {
   "cell_type": "code",
   "execution_count": null,
   "metadata": {
    "colab": {
     "base_uri": "https://localhost:8080/"
    },
    "id": "0smuKQ7IrIZV",
    "outputId": "5eeecc2f-7766-4092-c2c7-a92e7176585b"
   },
   "outputs": [
    {
     "name": "stdout",
     "output_type": "stream",
     "text": [
      "Enter post :clerk\n",
      "Enter basic salary :3000\n",
      "Invalid Post !!!!\n"
     ]
    }
   ],
   "source": [
    "def sal(post,basic):\n",
    "     post=post.upper()\n",
    "    if(post=='MANAGER'):\n",
    "        salary=int(basic+5000+20000)\n",
    "        return salary\n",
    "     elif(post=='EMPLOYEE'):\n",
    "        salary=int(basic+10000+12000)\n",
    "        return salary\n",
    "     else:\n",
    "        print(\"Invalid Post !!!!\")\n",
    "p=input(\"Enter post :\")\n",
    "bs=int(input(\"Enter basic salary :\"))\n",
    "sal(p,bs)"
   ]
  },
  {
   "cell_type": "markdown",
   "metadata": {
    "id": "zVe_p_KMwHka"
   },
   "source": [
    "3.  WA function to rotate given string by 2 position to right\n",
    "\n",
    "Ex.\n",
    "s1=”IACSD”\n",
    "Rotate by 2 place to right\n",
    "“SDIAC”"
   ]
  },
  {
   "cell_type": "code",
   "execution_count": null,
   "metadata": {
    "colab": {
     "base_uri": "https://localhost:8080/"
    },
    "id": "tMcDFyIiwbI2",
    "outputId": "63609877-233c-49ba-e071-634dc233cfa3"
   },
   "outputs": [
    {
     "name": "stdout",
     "output_type": "stream",
     "text": [
      " SDIAC\n"
     ]
    }
   ],
   "source": [
    "def rotate():\n",
    "    string='IACSD'\n",
    "    s2=\" \"\n",
    "    for i in range (len(string)):\n",
    "         s2+=string[i-2]\n",
    "    print(s2)\n",
    "rotate()"
   ]
  },
  {
   "cell_type": "markdown",
   "metadata": {
    "id": "01lpT28tE4s_"
   },
   "source": [
    "4.  Generalize above function to rotate string to right by n"
   ]
  },
  {
   "cell_type": "code",
   "execution_count": null,
   "metadata": {
    "colab": {
     "base_uri": "https://localhost:8080/"
    },
    "id": "C8sK68kvE6i3",
    "outputId": "d980d576-71db-489f-b3f2-483869e3cc50"
   },
   "outputs": [
    {
     "name": "stdout",
     "output_type": "stream",
     "text": [
      "Enter any string :vaishnavi\n",
      "Enter number to rotate :4\n",
      " navivaish\n"
     ]
    }
   ],
   "source": [
    "def rotate(no):\n",
    "    string=s\n",
    "    s2=\" \"\n",
    "    for i in range (len(string)):\n",
    "         s2+=string[i-no]\n",
    "    print(s2)\n",
    "s=input(\"Enter any string :\")\n",
    "n=int(input(\"Enter number to rotate :\"))\n",
    "rotate(n)"
   ]
  },
  {
   "cell_type": "markdown",
   "metadata": {
    "id": "YMFdkv77FnAF"
   },
   "source": [
    "5.  Generalize above function to rotate string by n to right or left"
   ]
  },
  {
   "cell_type": "code",
   "execution_count": null,
   "metadata": {
    "colab": {
     "base_uri": "https://localhost:8080/"
    },
    "id": "gXuMBN4jFojU",
    "outputId": "2f481338-0f77-419c-8416-09acdd66b07b"
   },
   "outputs": [
    {
     "name": "stdout",
     "output_type": "stream",
     "text": [
      "Enter any string :abcd\n",
      "Enter number to rotate :1\n",
      "Right rotation :  dabc\n",
      "Left rotation :  dcb\n"
     ]
    }
   ],
   "source": [
    "def rotate(no):\n",
    "    string=s\n",
    "    s2=\" \"\n",
    "    s3=\" \"\n",
    "    for i in range (len(string)):\n",
    "         s2+=string[i-no]\n",
    "    s4=string[::-1]\n",
    "    for i in range (1,len(string)):\n",
    "         s3+=s4[i-no]\n",
    "    print(\"Right rotation :\",s2)\n",
    "    print(\"Left rotation :\",s3)\n",
    "s=input(\"Enter any string :\")\n",
    "n=int(input(\"Enter number to rotate :\"))\n",
    "rotate(n)"
   ]
  },
  {
   "cell_type": "markdown",
   "metadata": {
    "id": "8oPi7qPWvQY9"
   },
   "source": [
    "6.WAP to count number of passengers in every airline. Here we are given dictionary of passanger id and airline id Ex input_dir ={'p1':'a1','p2':'a10','p89':'a1','p5':'a10'} output: {'a1':2, 'a10':2}"
   ]
  },
  {
   "cell_type": "code",
   "execution_count": 1,
   "metadata": {
    "colab": {
     "base_uri": "https://localhost:8080/"
    },
    "id": "AlPVDh0yvVlE",
    "outputId": "06e03b14-c283-43f5-f568-5a4665e94ee0"
   },
   "outputs": [
    {
     "name": "stdout",
     "output_type": "stream",
     "text": [
      "{'a1': 2, 'a10': 2}\n"
     ]
    }
   ],
   "source": [
    "def p_count(d1):\n",
    "    d2=dict()\n",
    "    for val in d1.values():\n",
    "        count=0\n",
    "        for k1 in d1.keys():\n",
    "            if d1[k1]==val:\n",
    "                count+=1\n",
    "        d2[val]=count\n",
    "    return d2\n",
    "d1={'p1':'a1','p2':'a10','p89':'a1','p5':'a10'}\n",
    "print(p_count(d1))"
   ]
  },
  {
   "cell_type": "markdown",
   "metadata": {
    "id": "VBVBFrrmv6LT"
   },
   "source": [
    "7.given a list of strings. every string is in format \"Emp_name:Emp_id\" Emp_id is always a number if emp_id is amstrong number then rotate emp_name 1 place to the right --> and print the emp_name if emp_id is a prime no then print vowels from the employee name in other cases print consonents from the emp name Finally there should be print of every employee name as per given condition"
   ]
  },
  {
   "cell_type": "code",
   "execution_count": 4,
   "metadata": {
    "colab": {
     "base_uri": "https://localhost:8080/"
    },
    "id": "ze_kJGqqwBrD",
    "outputId": "02c600e8-7b63-4e66-880e-9f6ca95699fd"
   },
   "outputs": [
    {
     "name": "stdout",
     "output_type": "stream",
     "text": [
      "dsh\n",
      "vshnv\n",
      "gtm\n"
     ]
    }
   ],
   "source": [
    "def armstrong(num):\n",
    "    po=len(num)\n",
    "    sum=0\n",
    "    for n in num:\n",
    "        sum+=int(n)**po\n",
    "    if sum==int(num):\n",
    "        return True\n",
    "    else:\n",
    "        return False\n",
    "\n",
    "def rotate(name):\n",
    "    nm=name[-1:]+name[:-1]\n",
    "    return nm\n",
    "\n",
    "def prime(num):\n",
    "    count=0\n",
    "    num=int(num)\n",
    "    for i in range(2,int(num**0.5)):\n",
    "        if num%i==0:\n",
    "            count+=1\n",
    "    if count>0:\n",
    "        return False\n",
    "    else:\n",
    "        return True\n",
    "\n",
    "def vowel_l(name,choice):\n",
    "    vowel=consonents=''\n",
    "    for ch in name.lower():\n",
    "        if ch==\"a\" or ch==\"e\" or ch==\"i\" or ch==\"o\" or ch==\"u\":\n",
    "            vowel+=ch\n",
    "        else:\n",
    "            consonents+=ch\n",
    "    if choice==1:\n",
    "        return vowel\n",
    "    else:\n",
    "        return consonents\n",
    "\n",
    "def check_list(l1):\n",
    "    for ele in l1:\n",
    "        emp_name,emp_id=ele.split(':')\n",
    "        if armstrong(emp_id):\n",
    "            print(rotate(emp_name))\n",
    "        elif prime(emp_id):\n",
    "            print(vowel_l(emp_name,1))\n",
    "        else:\n",
    "            print(vowel_l(emp_name,0))\n",
    "check_list(['disha:660','vaishnavi:195','gautamee:36'])"
   ]
  },
  {
   "cell_type": "markdown",
   "metadata": {
    "id": "N6vU_yvwxGSJ"
   },
   "source": [
    "8.Write a function which takes all details of a person as input in sequence and prints details as follows (Hint: Think which type of parameter to be used for every option) a. Take name and Print it in Camel Case b. Take 10 digit Mobile No and print it appending +91 c. Take location as optional value. If not given then print India d. Take Qualifications. Qualifications can be 1 or 2 or many. Print all the passed qualifications one by one. Default qualification is \"Human\""
   ]
  },
  {
   "cell_type": "code",
   "execution_count": 6,
   "metadata": {
    "colab": {
     "base_uri": "https://localhost:8080/"
    },
    "id": "nuYF2DGcxLEo",
    "outputId": "3c57c3c8-1463-4fca-be0e-fdda0844c2b8"
   },
   "outputs": [
    {
     "name": "stdout",
     "output_type": "stream",
     "text": [
      "DISHA\n",
      "+913457567603\n",
      "India\n",
      "('Pune', 'Maharashtra')\n"
     ]
    }
   ],
   "source": [
    "def phone(a1,a2,a3='India',*a4):\n",
    "    print(a1.upper())\n",
    "    print('+91',a2,sep='')\n",
    "    print(a3)\n",
    "\n",
    "    if not a4:\n",
    "        a4 = ('Human')\n",
    "    print(a4)\n",
    "\n",
    "phone('Disha','3457567603','India','Pune','Maharashtra')\n"
   ]
  },
  {
   "cell_type": "markdown",
   "metadata": {
    "id": "vAhiauDWx1ZA"
   },
   "source": [
    "9.Create a function \"cloth_details\" with three arguments, color, shape and size. All three are optional and can be passed in any sequence by the user."
   ]
  },
  {
   "cell_type": "code",
   "execution_count": 7,
   "metadata": {
    "colab": {
     "base_uri": "https://localhost:8080/"
    },
    "id": "8-cJAA28x6Ge",
    "outputId": "48e160d5-aa73-4f97-ad52-5ccfb83ebb71"
   },
   "outputs": [
    {
     "name": "stdout",
     "output_type": "stream",
     "text": [
      "blue\n",
      "regular\n",
      "32\n"
     ]
    }
   ],
   "source": [
    "def cloth(color='Black', shape='Slim Fit',size=29 ):\n",
    "    print(color)\n",
    "    print(shape)\n",
    "    print(size)\n",
    "\n",
    "cloth(\"blue\",'regular',32)"
   ]
  },
  {
   "cell_type": "markdown",
   "metadata": {
    "id": "1_iD8b_iyJ5N"
   },
   "source": [
    "10.Create a calculator.py file Create add(), subtract(), multiply(), divide(), power(), log() functions Create a menu driven program to take values and operation as input from user and print result using these functions\n",
    "Take ONLY integer inputs from user. If its not an integer then give Error message -> \"WRONG Input: Please enter ONLY integer value\" Your program should not give \"ValueError\" while using int() function for any input from below, It should display YOUR error message Enter a number : 10 Enter a number : 10.9 Enter a number : ABC (Hint: Think about methods from string data type to check input as integer"
   ]
  },
  {
   "cell_type": "code",
   "execution_count": null,
   "metadata": {
    "id": "sL880PEAyMNu"
   },
   "outputs": [],
   "source": [
    "import math\n",
    "def check_int(num):\n",
    "    if num.isdigit():\n",
    "        num=int(num)\n",
    "        return num\n",
    "    else:\n",
    "        print(\"WRONG Input: Please enter ONLY integer value\")\n",
    "\n",
    "def add(num1,num2):\n",
    "    return num1+num2\n",
    "\n",
    "def sub(num1,num2):\n",
    "    return abs(num1-num2)\n",
    "\n",
    "def mul(num1,num2):\n",
    "    return num1*num2\n",
    "\n",
    "def div(num1,num2):\n",
    "    return num1/num2\n",
    "\n",
    "def power(num1,num2):\n",
    "    return num1**num2\n",
    "\n",
    "def log(num1,num2):\n",
    "    return math.log(num1,num2)\n",
    "\n",
    "while True:\n",
    "    choice=int(input(\"\"\"\n",
    "    Enter\n",
    "    1 for addition\n",
    "    2 for substraction\n",
    "    3 for multiplication\n",
    "    4 for division\n",
    "    5 for power\n",
    "    6 for log\n",
    "    7 for exit\n",
    "    Enter your choice:\n",
    "    \"\"\"))\n",
    "    while True:\n",
    "        num1=input(\"Enter first number: \")\n",
    "        if isinstance(check_int(num1),int)==True:\n",
    "            num1=int(num1)\n",
    "            break\n",
    "        else:\n",
    "            continue\n",
    "    while True:\n",
    "        num2=input(\"Enter second number: \")\n",
    "        if isinstance(check_int(num2),int)==True:\n",
    "            num2=int(num2)\n",
    "            break\n",
    "        else:\n",
    "            continue\n",
    "    match choice:\n",
    "        case 1:\n",
    "            print(add(num1,num2))\n",
    "        case 2:\n",
    "            print(sub(num1,num2))\n",
    "        case 3:\n",
    "            print(mul(num1,num2))\n",
    "        case 4:\n",
    "            print(div(num1,num2))\n",
    "        case 5:\n",
    "            print(power(num1,num2))\n",
    "        case 6:\n",
    "            print(log(num1,num2))\n",
    "        case 7:\n",
    "            print(\"Exiting Program\")\n",
    "            break\n",
    "        case _:\n",
    "            print(\"Invalid input, enter correct option.\")"
   ]
  },
  {
   "cell_type": "markdown",
   "metadata": {
    "id": "BEKtFRL5yaC9"
   },
   "source": [
    "11.Write a function which finds average of given arguments. Minimum it takes two parameters and maximum it can take any number of arguments. Finally it should return average of all arguments passed\n",
    "Ex. avg(10,12) return value 11 avg(3,4,5) return value 4 avg(1,2,3,4,5,6,7,8,9,10) return value 5.5 Extra case avg(1,2,avg(4,5,6)) return value 2.667 (roughly 8/3)"
   ]
  },
  {
   "cell_type": "code",
   "execution_count": 8,
   "metadata": {
    "colab": {
     "base_uri": "https://localhost:8080/"
    },
    "id": "MyfzqgVGyprV",
    "outputId": "76c6b1bb-cda0-4686-dc4a-46330a2b1df6"
   },
   "outputs": [
    {
     "data": {
      "text/plain": [
       "2.667"
      ]
     },
     "execution_count": 8,
     "metadata": {},
     "output_type": "execute_result"
    }
   ],
   "source": [
    "def avg_fn(x, /, *args):\n",
    "    summ = x\n",
    "    for i in args:\n",
    "        summ += i\n",
    "    avg=summ/(len(args)+1)\n",
    "    return round(avg,3)\n",
    "avg_fn(1,2,avg_fn(4,5,6))"
   ]
  }
 ],
 "metadata": {
  "colab": {
   "provenance": []
  },
  "kernelspec": {
   "display_name": "Python 3 (ipykernel)",
   "language": "python",
   "name": "python3"
  },
  "language_info": {
   "codemirror_mode": {
    "name": "ipython",
    "version": 3
   },
   "file_extension": ".py",
   "mimetype": "text/x-python",
   "name": "python",
   "nbconvert_exporter": "python",
   "pygments_lexer": "ipython3",
   "version": "3.11.4"
  }
 },
 "nbformat": 4,
 "nbformat_minor": 1
}
