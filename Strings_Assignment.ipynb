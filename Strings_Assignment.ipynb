{
 "cells": [
  {
   "cell_type": "markdown",
   "id": "5ed7e00e",
   "metadata": {},
   "source": [
    "# Strings"
   ]
  },
  {
   "cell_type": "markdown",
   "id": "f0a682b0",
   "metadata": {},
   "source": [
    "# Assignment strings"
   ]
  },
  {
   "cell_type": "markdown",
   "id": "5f652d36",
   "metadata": {},
   "source": [
    "1. Given a string of odd length greater than 7, return a new string made of the middle three characters\n",
    "of a given String\n",
    "Given:\n",
    "str1 = \"RakeshzipPetabb\"\n",
    "Output\n",
    "zip\n",
    "str2 = \"JazzbonAyxx\"\n",
    "Output\n",
    "bon"
   ]
  },
  {
   "cell_type": "code",
   "execution_count": 101,
   "id": "1a976acf",
   "metadata": {},
   "outputs": [
    {
     "name": "stdout",
     "output_type": "stream",
     "text": [
      "Enter the string: jazzbonayxx\n",
      "bon\n"
     ]
    }
   ],
   "source": [
    "s=input(\"Enter the string: \")\n",
    "n=len(s)//2\n",
    "if (len(s)>7) and (len(s)%2!=0):\n",
    "    print(s[n-1:n+2])\n",
    "\n",
    "\n",
    "        \n",
    "    "
   ]
  },
  {
   "cell_type": "markdown",
   "id": "8ddd385e",
   "metadata": {},
   "source": [
    "2. Given two strings, s1 and s2, create a new string by appending s2 in the middle of s1\n",
    "Given:\n",
    "s1 = \"Ault\"\n",
    "s2 = \"Kelly\"\n",
    "Expected Output:\n",
    "AuKellylt\n"
   ]
  },
  {
   "cell_type": "code",
   "execution_count": 14,
   "id": "245a43b5",
   "metadata": {},
   "outputs": [
    {
     "name": "stdout",
     "output_type": "stream",
     "text": [
      "Enter the string1: disha\n",
      "Enter the string2: vaishnavi\n",
      "di\n",
      "sha\n",
      "divaishnavisha\n"
     ]
    }
   ],
   "source": [
    "s1 =input(\"Enter the string1: \")\n",
    "s2 =input(\"Enter the string2: \")\n",
    "\n",
    "n=len(s1)//2\n",
    "st=s1[:n]\n",
    "print(st)\n",
    "st1=s1[n:]\n",
    "print(st1)\n",
    "sum=st+s2+st1\n",
    "print(sum)"
   ]
  },
  {
   "cell_type": "markdown",
   "id": "3b94b4f7",
   "metadata": {},
   "source": [
    "3. two strings, s1, and s2 return a new string made of the first, middle, and last characters each input\n",
    "string\n",
    "Given:\n",
    "s1 = \"America\"\n",
    "s2 = \"Japan\"\n",
    "Expected Output:\n",
    "AJrpan"
   ]
  },
  {
   "cell_type": "code",
   "execution_count": 145,
   "id": "67dba258",
   "metadata": {},
   "outputs": [
    {
     "name": "stdout",
     "output_type": "stream",
     "text": [
      "Enter the string1: Canada\n",
      "Enter the string2: London\n",
      "CLadan\n"
     ]
    }
   ],
   "source": [
    "s1=input(\"Enter the string1: \")\n",
    "s2=input(\"Enter the string2: \")\n",
    "\n",
    "n1=len(s1)//2\n",
    "n2=len(s2)//2\n",
    "\n",
    "sum=s1[0]+s2[0]+s1[n1]+s2[n2]+s1[-1]+s2[-1]\n",
    "print(sum)"
   ]
  },
  {
   "cell_type": "markdown",
   "id": "286b0be6",
   "metadata": {},
   "source": [
    "4. Given an input string with the combination of the lower and upper case arrange characters in such a\n",
    "way that all lowercase letters should come first.\n",
    "\n"
   ]
  },
  {
   "cell_type": "code",
   "execution_count": 144,
   "id": "5afc729d",
   "metadata": {},
   "outputs": [
    {
     "name": "stdout",
     "output_type": "stream",
     "text": [
      "Enter  the string: AmeRIca\n",
      "mecaRIA\n"
     ]
    }
   ],
   "source": [
    "s=input(\"Enter  the string: \")\n",
    "s1=sorted(s,reverse=True)\n",
    "# print(s1)\n",
    "a = \"\".join(s1)\n",
    "print(a)    "
   ]
  },
  {
   "cell_type": "markdown",
   "id": "8a6c8de2",
   "metadata": {},
   "source": [
    "5. create a third-string made of the first char of s1 then the last char of s2, Next, the second char of s1\n",
    "and second last char of s2, and so on. Any leftover chars go at the end of the result.\n",
    "Given:\n",
    "s1 = \"Abc\"\n",
    "s2 = \"Xyz\"\n",
    "Expected Output:\n",
    "AzbycX\n"
   ]
  },
  {
   "cell_type": "code",
   "execution_count": 1,
   "id": "ea086c3b",
   "metadata": {},
   "outputs": [
    {
     "name": "stdout",
     "output_type": "stream",
     "text": [
      "AzbycX\n"
     ]
    }
   ],
   "source": [
    "s1=\"Abc\"\n",
    "s2=\"Xyz\"\n",
    "if(len(s1)>len(s2)):\n",
    "   length=len(s1)\n",
    "else:\n",
    "   length=len(s2)\n",
    "s3=\"\"\n",
    "s2=s2[::-1]\n",
    "for i in range(length):\n",
    "    if i < len(s1):\n",
    "        s3 = s3 + s1[i]\n",
    "    if i < len(s2):\n",
    "        s3 = s3 + s2[i]\n",
    "print(s3)"
   ]
  },
  {
   "cell_type": "markdown",
   "id": "4a93901a",
   "metadata": {},
   "source": [
    "6. Find all occurrences of “USA” from right to left in a given string ignoring the case. also display the\n",
    "starting position\n",
    "Given:\n",
    "str1 = \"Welcome to USA. usa awesome, isn't it?\n",
    "Expected answer : 16, 11\n"
   ]
  },
  {
   "cell_type": "code",
   "execution_count": 14,
   "id": "dadd5a76",
   "metadata": {},
   "outputs": [
    {
     "name": "stdout",
     "output_type": "stream",
     "text": [
      "16 11\n"
     ]
    }
   ],
   "source": [
    "str1=\"Welcome to USA. usa awesome, isn't it?\"\n",
    "\n",
    "\n",
    "print(str1.find('usa'),str1.find('USA'))\n"
   ]
  },
  {
   "cell_type": "markdown",
   "id": "a450319c",
   "metadata": {},
   "source": [
    "7. Find all overlapping occurrences of given substring in given string\n",
    "Ex.\n",
    "String = 0111\n",
    "Substring = 11\n",
    "Expected answer : 2\n",
    "String : ANANAAAANNN\n",
    "Substring: ANA\n",
    "Expected answer : 2\n",
    "String : ANANAAAANNN\n",
    "Substring: AA\n",
    "Expected answer : 3\n"
   ]
  },
  {
   "cell_type": "code",
   "execution_count": null,
   "id": "34813b70",
   "metadata": {},
   "outputs": [],
   "source": []
  },
  {
   "cell_type": "markdown",
   "id": "ecb5328b",
   "metadata": {},
   "source": [
    "\n",
    "8. Given a string in format Emp_name:Emp_id\n",
    "If emp_is is perfect square -- > Print only vowels from emp_name\n",
    "Else if emp_id is prime -- > print alternate characters from emp_name\n",
    "Else if emp_id is odd -- > print sum of ascii values of characters in emp_name\n",
    "Else print None"
   ]
  },
  {
   "cell_type": "code",
   "execution_count": 10,
   "id": "dbc34439",
   "metadata": {},
   "outputs": [
    {
     "ename": "IndentationError",
     "evalue": "unindent does not match any outer indentation level (<tokenize>, line 44)",
     "output_type": "error",
     "traceback": [
      "\u001b[1;36m  File \u001b[1;32m<tokenize>:44\u001b[1;36m\u001b[0m\n\u001b[1;33m    print(ascii_sum)\u001b[0m\n\u001b[1;37m    ^\u001b[0m\n\u001b[1;31mIndentationError\u001b[0m\u001b[1;31m:\u001b[0m unindent does not match any outer indentation level\n"
     ]
    }
   ],
   "source": [
    "import math\n",
    "s1=input(\"Enter emp_name:emp_id\")\n",
    "emp=s1.split(':')\n",
    "print(emp)\n",
    "name=emp[0]\n",
    "id=emp[1]\n",
    "#id_n=int(id)\n",
    "def valid():\n",
    "    if(id.isdigit())and(name.isalpha()):\n",
    "        if (1000<=id<=9999):\n",
    "            return True\n",
    "    else:\n",
    "        print(\"Enter Valid Credentials: \")\n",
    "\n",
    "def square():\n",
    "         id_n=int(id)\n",
    "         square_root = math.isqrt(id_n)\n",
    "            if square_root * square_root == id_n:\n",
    "                 return True\n",
    "            else:\n",
    "                 return 0\n",
    "def prime():\n",
    "      id_n=int(id)\n",
    "         for num in range(2,id_n):\n",
    "            if id_n % num ==0:\n",
    "                return True\n",
    "            else:\n",
    "                return None\n",
    "if valid():\n",
    "    if(square()):\n",
    "        for i in name:\n",
    "            if((i=='a')or(i=='A')or(i=='e')or(i=='E')or(i=='i')or(i=='I')or(i=='o')or(i=='O')or(i=='u')or(i=='U')):\n",
    "            print(i,end=' ')\n",
    "    elif(prime()):\n",
    "        for i in range(len(name)):\n",
    "            if i%2==0:\n",
    "                print(i)\n",
    "    elif(int(id)%2!=0):\n",
    "         for char in name:\n",
    "            ascii_sum=0\n",
    "             for char in name:\n",
    "                ascii=ord(char)\n",
    "                ascii_sum=ascii_sum+ascii\n",
    "        print(ascii_sum)\n",
    "    else:\n",
    "        print(None)"
   ]
  },
  {
   "cell_type": "markdown",
   "id": "b1c4153c",
   "metadata": {},
   "source": [
    "9. Find all mobile number mentioned in given paragraph of text\n",
    "Mobile number is always a 10 digit number no spaces no special characters\n",
    "Ex. Input= “this is a good number 9089786756 and 8900000000 is a desired number”\n",
    "Expected output: 9089786756 , 8900000000"
   ]
  },
  {
   "cell_type": "code",
   "execution_count": 13,
   "id": "39f29f46",
   "metadata": {},
   "outputs": [
    {
     "name": "stdout",
     "output_type": "stream",
     "text": [
      "9089786756\n",
      "8900000000\n"
     ]
    }
   ],
   "source": [
    "def mobile(text):\n",
    "    mob = []\n",
    "    cn = \"\"\n",
    "    for char in text:\n",
    "        if char.isdigit():\n",
    "            cn += char\n",
    "        else:\n",
    "            if len(cn) == 10:\n",
    "                mob.append(cn)\n",
    "                cn = \"\"\n",
    "    if len(cn) == 10:\n",
    "        mob.append(cn)\n",
    "\n",
    "    return mob\n",
    "\n",
    "text = \"this is a good number 9089786756 and 8900000000 is a desired number\"\n",
    "mob = mobile(text)\n",
    "\n",
    "for number in mob:\n",
    "    print(number)"
   ]
  },
  {
   "cell_type": "markdown",
   "id": "fc596f9d",
   "metadata": {},
   "source": [
    "10. Count occurrence of spaces, and special characters in given string\n",
    "Ex.\n",
    "Input: Fgh^f #89\n",
    "Expected output :\n",
    "Spaces: 1\n",
    "Special characters: 2\n"
   ]
  },
  {
   "cell_type": "code",
   "execution_count": 12,
   "id": "20190ce9",
   "metadata": {},
   "outputs": [
    {
     "name": "stdout",
     "output_type": "stream",
     "text": [
      "Spaces : 1\n",
      "Special characters : 2\n"
     ]
    }
   ],
   "source": [
    "string=\"Fgh^f #89\"\n",
    "count_s=0\n",
    "count_c=0\n",
    "for char in string:\n",
    "    if char.isspace():\n",
    "        count_s=count_s+1\n",
    "    elif not char.isalnum():\n",
    "        count_c=count_c+1\n",
    "print(\"Spaces :\",count_s)\n",
    "print(\"Special characters :\",count_c)\n"
   ]
  },
  {
   "cell_type": "markdown",
   "id": "0f1c3f52",
   "metadata": {},
   "source": [
    "11. Given a paragraph count number of words, sentences. Every sentence ends with either . or ? or !\n",
    "Print Count of how many normal sentences ending with . , how many interrogative sentences ( ending\n",
    "with ?) and how many exclamatory sentences ( ending with !).\n",
    "Ex.\n",
    "Input : “I am at CDAC. What about you? I am surprised by current weather!”\n",
    "Normal sentence : 1\n",
    "Interrogative: 1\n",
    "Exclamatory : 1"
   ]
  },
  {
   "cell_type": "code",
   "execution_count": 11,
   "id": "81747c5b",
   "metadata": {},
   "outputs": [
    {
     "name": "stdout",
     "output_type": "stream",
     "text": [
      "Normal sentence : 1 Interrogative : 0 Exclamatory : 1\n"
     ]
    }
   ],
   "source": [
    "paragraph=\"I am at CDAC. What about you? I am surprised by current weather!\"\n",
    "sentences=paragraph.split('.')\n",
    "e_count=0\n",
    "i_count=0\n",
    "n_count=0\n",
    "for s in sentences:\n",
    "    if s.endswith('!'):\n",
    "        e_count=e_count+1\n",
    "    elif s.endswith('?'):\n",
    "        i_count=i_count+1\n",
    "    else:\n",
    "        n_count=n_count+1\n",
    "print(\"Normal sentence :\",n_count,\"Interrogative :\",i_count,\"Exclamatory :\",e_count)\n"
   ]
  },
  {
   "cell_type": "code",
   "execution_count": null,
   "id": "67ca900d",
   "metadata": {},
   "outputs": [],
   "source": []
  }
 ],
 "metadata": {
  "kernelspec": {
   "display_name": "Python 3 (ipykernel)",
   "language": "python",
   "name": "python3"
  },
  "language_info": {
   "codemirror_mode": {
    "name": "ipython",
    "version": 3
   },
   "file_extension": ".py",
   "mimetype": "text/x-python",
   "name": "python",
   "nbconvert_exporter": "python",
   "pygments_lexer": "ipython3",
   "version": "3.11.4"
  }
 },
 "nbformat": 4,
 "nbformat_minor": 5
}
