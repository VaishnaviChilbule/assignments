{
  "cells": [
    {
      "cell_type": "markdown",
      "id": "6e6a7d1d",
      "metadata": {
        "id": "6e6a7d1d"
      },
      "source": [
        "1. A student will not be allowed to sit in exam if his/her attendence is less than 75%.  \n",
        "   Take following input from user Number of classes held Number of classes attended. And print percentage of class attended  \n",
        "   Is student is allowed to sit in exam or not."
      ]
    },
    {
      "cell_type": "code",
      "execution_count": null,
      "id": "da944b30",
      "metadata": {
        "id": "da944b30",
        "outputId": "902c8265-eb54-4140-9dd8-a35edb005349"
      },
      "outputs": [
        {
          "name": "stdout",
          "output_type": "stream",
          "text": [
            "75.0\n",
            "You are eligible for exam\n"
          ]
        }
      ],
      "source": [
        "number_classes=100\n",
        "number_attended=75\n",
        "percentage = (number_attended/number_classes)*100\n",
        "if 100>=percentage>=75:\n",
        "    print(percentage)\n",
        "    print(\"You are eligible for exam\")\n",
        "else:\n",
        "    print(\"Better luck next time!\")"
      ]
    },
    {
      "cell_type": "markdown",
      "id": "ca5576dc",
      "metadata": {
        "id": "ca5576dc"
      },
      "source": [
        "2. accept amount from user and find the minimum number notes required to get the amount amount =512  \n",
        "Notes: 2000,500,100,50,10,5,2,1  \n",
        "\n",
        "500-1 note  \n",
        "10  - 1 note  \n",
        "2-  1 coin  \n",
        "\n",
        "amount=20550  \n",
        "2000 – 10 note  \n",
        "500 – 1 note  \n",
        "50 -1 note  "
      ]
    },
    {
      "cell_type": "code",
      "execution_count": null,
      "id": "150cc350",
      "metadata": {
        "id": "150cc350",
        "outputId": "4beca3c3-8b67-43c6-caeb-52f10e667f06"
      },
      "outputs": [
        {
          "name": "stdout",
          "output_type": "stream",
          "text": [
            "Enter amount512\n",
            "500 notes= 1\n",
            "100 notes= 0\n",
            "50 notes= 0\n",
            "10 notes= 1\n",
            "5 coins= 0\n",
            "2 coins= 1\n",
            "1 coins= 2\n"
          ]
        }
      ],
      "source": [
        "amount=int(input(\"Enter amount\"))\n",
        "notes_2k=amount//2000\n",
        "if(notes_2k>0):\n",
        "    print(\"2000 notes =\",notes_2k)\n",
        "rem=amount%2000\n",
        "notes_500=rem//500\n",
        "print(\"500 notes=\",notes_500)\n",
        "rem=amount%500\n",
        "notes_100=rem//100\n",
        "print(\"100 notes=\",notes_100)\n",
        "rem=amount%100\n",
        "notes_50=rem//50\n",
        "print(\"50 notes=\",notes_50)\n",
        "rem=amount%50\n",
        "notes_10=rem//10\n",
        "print(\"10 notes=\",notes_10)\n",
        "rem=amount%10\n",
        "coins_5=rem//5\n",
        "print(\"5 coins=\",coins_5)\n",
        "rem=amount%5\n",
        "coins_2=rem//2\n",
        "print(\"2 coins=\",coins_2)\n",
        "print(\"1 coins=\",rem)"
      ]
    },
    {
      "cell_type": "markdown",
      "id": "837e1874",
      "metadata": {
        "id": "837e1874"
      },
      "source": [
        "3.\tModify the above question Q1 to allow student to sit if he/she has medical cause. Ask user if he/she has medical cause or not ( 'Y' or 'N' ) and print accordingly.  \n"
      ]
    },
    {
      "cell_type": "code",
      "execution_count": null,
      "id": "8f429827",
      "metadata": {
        "id": "8f429827",
        "outputId": "88d07be6-328b-4636-b0d4-7750bc97396c"
      },
      "outputs": [
        {
          "name": "stdout",
          "output_type": "stream",
          "text": [
            "Enter number of classes attended out of 100:74\n",
            "Enter 'Y'for medical cause and 'N'for no:N\n",
            "Sorry your attendance is not sufficient, Better luck next time !!!!\n"
          ]
        }
      ],
      "source": [
        "number_classes=100\n",
        "number_attended=int(input(\"Enter number of classes attended out of 100:\"))\n",
        "percentage = (number_attended/number_classes)*100\n",
        "med_cause=input(\"Enter 'Y'for medical cause and 'N'for no:\")\n",
        "if (med_cause=='Y') and (percentage<75):\n",
        "    print(\"You are eligible for exam dont worry\")\n",
        "if (100>=percentage>=75) or (med_cause=='Y'):\n",
        "    print(\"attendance:\",percentage)\n",
        "else:\n",
        "    print(\"Sorry your attendance is not sufficient, Better luck next time !!!!\")\n"
      ]
    },
    {
      "cell_type": "markdown",
      "id": "88a26ae1",
      "metadata": {
        "id": "88a26ae1"
      },
      "source": [
        "4.\tA school has following rules for grading system:  \n",
        "a.\tBelow 25 - F  \n",
        "b.\t25 to 45 - E  \n",
        "c.\t45 to 50 - D  \n",
        "d.\t50 to 60 - C  \n",
        "e.\t60 to 80 - B  \n",
        "f.\tAbove 80 - A  \n",
        "Ask user to enter marks and print the corresponding grade.  "
      ]
    },
    {
      "cell_type": "code",
      "execution_count": null,
      "id": "16bee016",
      "metadata": {
        "id": "16bee016",
        "outputId": "a4d68f4a-9806-492d-9b33-3ca6363e0bdb"
      },
      "outputs": [
        {
          "name": "stdout",
          "output_type": "stream",
          "text": [
            "Enter your marks 19\n",
            "Failed : F grade\n"
          ]
        }
      ],
      "source": [
        "marks=int(input(\"Enter your marks \"))\n",
        "if 100>=marks>=80:\n",
        "    print(\"You have obtained A grade !!!\")\n",
        "elif 80>=marks>=60:\n",
        "    print(\"You have obtained B grade.\")\n",
        "elif 60>=marks>=50:\n",
        "    print(\"You have obtained C grade.\")\n",
        "elif 50>=marks>=45:\n",
        "    print(\"You have obtained D grade.\")\n",
        "elif 45>=marks>=25:\n",
        "    print(\"You have obtained E grade.\")\n",
        "else:\n",
        "    print(\"Failed : F grade\")\n"
      ]
    },
    {
      "cell_type": "markdown",
      "id": "840bf363",
      "metadata": {
        "id": "840bf363"
      },
      "source": [
        " If  x = 2 y = 5 z = 0  then find values of the following expressions and Print the output of following statements  \n",
        "a.\tx == 2  \n",
        "b.\tx != 5  \n",
        "c.\tx != 5 & y >= 5  \n",
        "d.\tz != 0 | x == 2  \n",
        "e.\tnot(y < 10)  "
      ]
    },
    {
      "cell_type": "code",
      "execution_count": null,
      "id": "ca077762",
      "metadata": {
        "id": "ca077762",
        "outputId": "f85f0943-7d2e-45ea-c4c7-fea19bec1e4b"
      },
      "outputs": [
        {
          "data": {
            "text/plain": [
              "True"
            ]
          },
          "execution_count": 29,
          "metadata": {},
          "output_type": "execute_result"
        }
      ],
      "source": [
        "x=2\n",
        "y=5\n",
        "z=0\n",
        "x==2\n",
        "#x!=5\n",
        "#x!=5&y>=5\n",
        "#z!=0|x==2\n",
        "#not(y<10)"
      ]
    },
    {
      "cell_type": "code",
      "execution_count": null,
      "id": "080183ec",
      "metadata": {
        "id": "080183ec",
        "outputId": "c90f9534-c3cb-4320-9eba-26b631ece345"
      },
      "outputs": [
        {
          "data": {
            "text/plain": [
              "True"
            ]
          },
          "execution_count": 30,
          "metadata": {},
          "output_type": "execute_result"
        }
      ],
      "source": [
        "x=2\n",
        "y=5\n",
        "z=0\n",
        "#x==2\n",
        "x!=5\n",
        "#x!=5&y>=5\n",
        "#z!=0|x==2\n",
        "#not(y<10)"
      ]
    },
    {
      "cell_type": "code",
      "execution_count": null,
      "id": "7cb7a860",
      "metadata": {
        "id": "7cb7a860",
        "outputId": "f319854c-ab81-4f0a-fade-203975d57fd2"
      },
      "outputs": [
        {
          "data": {
            "text/plain": [
              "True"
            ]
          },
          "execution_count": 31,
          "metadata": {},
          "output_type": "execute_result"
        }
      ],
      "source": [
        "x=2\n",
        "y=5\n",
        "z=0\n",
        "#x==2\n",
        "#x!=5\n",
        "x!=5&y>=5\n",
        "#z!=0|x==2\n",
        "#not(y<10)"
      ]
    },
    {
      "cell_type": "code",
      "execution_count": null,
      "id": "de715df4",
      "metadata": {
        "id": "de715df4",
        "outputId": "e3046e3a-5cb2-4833-d5cf-02a5c38effba"
      },
      "outputs": [
        {
          "data": {
            "text/plain": [
              "True"
            ]
          },
          "execution_count": 32,
          "metadata": {},
          "output_type": "execute_result"
        }
      ],
      "source": [
        "x=2\n",
        "y=5\n",
        "z=0\n",
        "#x==2\n",
        "#x!=5\n",
        "#x!=5&y>=5\n",
        "z!=0|x==2\n",
        "#not(y<10)"
      ]
    },
    {
      "cell_type": "code",
      "execution_count": null,
      "id": "d4593517",
      "metadata": {
        "id": "d4593517",
        "outputId": "0c3c2407-f57f-4989-d4de-09864de5fe99"
      },
      "outputs": [
        {
          "data": {
            "text/plain": [
              "False"
            ]
          },
          "execution_count": 33,
          "metadata": {},
          "output_type": "execute_result"
        }
      ],
      "source": [
        "x=2\n",
        "y=5\n",
        "z=0\n",
        "#x==2\n",
        "#x!=5\n",
        "#x!=5&y>=5\n",
        "#z!=0|x==2\n",
        "not(y<10)"
      ]
    },
    {
      "cell_type": "markdown",
      "id": "56d35314",
      "metadata": {
        "id": "56d35314"
      },
      "source": [
        "6.\tAccept number from user and check whether it is divisible by 5 and 11 if divisible then display appropriate message."
      ]
    },
    {
      "cell_type": "code",
      "execution_count": null,
      "id": "16e45c97",
      "metadata": {
        "id": "16e45c97",
        "outputId": "e264330c-bfe7-4138-ddf3-f5346647b990"
      },
      "outputs": [
        {
          "name": "stdout",
          "output_type": "stream",
          "text": [
            "Enter any number of your choice: 55\n",
            "your number is divisible by 5 and 11\n"
          ]
        }
      ],
      "source": [
        "num=int(input(\"Enter any number of your choice: \"))\n",
        "if(num%5==0)and(num%11==0):\n",
        "    print(\"your number is divisible by 5 and 11\")\n",
        "else:\n",
        "    print(\"Not divisible\")"
      ]
    },
    {
      "cell_type": "markdown",
      "id": "d8dd4db0",
      "metadata": {
        "id": "d8dd4db0"
      },
      "source": [
        "7.\tWrite a program to calculate the electricity bill (accept number of unit from user) according to the following criteria :  \n",
        "             Unit                                    Price    \n",
        "First 100 units                                       no charge  \n",
        "Next 100 units                                        Rs 5 per unit  \n",
        "After 200 units                                       Rs 10 per unit  \n",
        "(For example if input unit is 350 than total bill amount is Rs2000)  "
      ]
    },
    {
      "cell_type": "code",
      "execution_count": null,
      "id": "a75ae9d3",
      "metadata": {
        "id": "a75ae9d3",
        "outputId": "75dda468-9b4f-43ce-ec02-4aa2b701d684"
      },
      "outputs": [
        {
          "name": "stdout",
          "output_type": "stream",
          "text": [
            "Enter number of units: 350\n",
            "Your bill is:  2000\n"
          ]
        }
      ],
      "source": [
        "units=int(input(\"Enter number of units: \"))\n",
        "bill=0\n",
        "if units<=100:\n",
        "    print(\"Congratulations!!! No Charge!!!\")\n",
        "elif 200>=units>100:\n",
        "    rem=units-100\n",
        "    bill=rem*5\n",
        "    print(\"Your bill is: \",bill)\n",
        "elif units>200:\n",
        "    rem=units-200\n",
        "    bill=rem*10+100*5\n",
        "    print(\"Your bill is: \",bill)\n"
      ]
    },
    {
      "cell_type": "markdown",
      "id": "30588a4f",
      "metadata": {
        "id": "30588a4f"
      },
      "source": [
        "8.\tWrite a program to check whether the last digit of a number( entered by user ) is divisible by 3 or not."
      ]
    },
    {
      "cell_type": "code",
      "execution_count": null,
      "id": "f6d35530",
      "metadata": {
        "id": "f6d35530",
        "colab": {
          "base_uri": "https://localhost:8080/"
        },
        "outputId": "81239cdf-44b9-4cb1-df06-e4d34c5fb12a"
      },
      "outputs": [
        {
          "output_type": "stream",
          "name": "stdout",
          "text": [
            "Enter any number you want: 145\n",
            "last digit is not divisible by 3\n"
          ]
        }
      ],
      "source": [
        "num=input(\"Enter any number you want: \")\n",
        "l=len(num)\n",
        "n_num=int(num)\n",
        "for i in range(1,l):\n",
        "    rem=n_num%10\n",
        "if rem%3==0:\n",
        "    print(\"last digit is divisible by 3\")\n",
        "else:\n",
        "    print(\"last digit is not divisible by 3\")"
      ]
    },
    {
      "cell_type": "markdown",
      "id": "eea3ab77",
      "metadata": {
        "id": "eea3ab77"
      },
      "source": [
        "9.\tWrite a program to check whether an years is leap year or not the year is leap if it satisfies following condition  \n",
        "•\tIt the year is divisible by 100 o If it is divisible by 100, then it should also be divisible by 400 then it is leap year  \n",
        "•\totherwise, all other years divisible by 4 and not divisible by 100 then it is leap year.  \n"
      ]
    },
    {
      "cell_type": "code",
      "execution_count": null,
      "id": "d16dc1cc",
      "metadata": {
        "id": "d16dc1cc"
      },
      "outputs": [],
      "source": [
        "year=int(input(\"Enter any year: \"))\n",
        "if (year%400==0) and (year%100==0) or (year%4==0):\n",
        "    print(\"Leap Year\")\n",
        "else:\n",
        "    print(\"Not a leap year!\")"
      ]
    },
    {
      "cell_type": "markdown",
      "id": "114ff91e",
      "metadata": {
        "id": "114ff91e"
      },
      "source": [
        "10. Write a program to accept the price of a bike and display the road tax and insurance to be paid according to the following criteria . also display total amount to be paid.  \n",
        "      \n",
        "        Cost price (in Rs)           Tax                Inssurance  \n",
        "        > 100000                     15 %                   20%  \n",
        "        > 50000 and <= 100000        10%                    8%  \n",
        "        <= 50000                     5%                     5%   \n",
        "\n"
      ]
    },
    {
      "cell_type": "code",
      "execution_count": null,
      "id": "e78df8bf",
      "metadata": {
        "id": "e78df8bf",
        "outputId": "3bf670e7-0a17-48a3-8d65-099845c8062c"
      },
      "outputs": [
        {
          "name": "stdout",
          "output_type": "stream",
          "text": [
            "Enter cost price of bike: 20000\n",
            "5% Tax and 5% Inssurance\n",
            "Tax to be paid:  1000\n",
            "inssurance to be paid:  1000\n"
          ]
        }
      ],
      "source": [
        "cp=int(input(\"Enter cost price of bike: \"))\n",
        "if cp>100000:\n",
        "    print(\"15% Tax and 20% Inssurance\")\n",
        "    tax=(cp*15)//100\n",
        "    print(\"Tax to be paid: \",tax)\n",
        "    inssurance=(cp*20)//100\n",
        "    print(\"inssurance to be paid: \",inssurance)\n",
        "elif 100000>=cp>50000:\n",
        "    print(\"10% Tax and 8% Inssurance\")\n",
        "    tax=(cp*10)//100\n",
        "    print(\"Tax to be paid: \",tax)\n",
        "    inssurance=(cp*8)//100\n",
        "    print(\"inssurance to be paid: \",inssurance)\n",
        "elif cp<=50000:\n",
        "    print(\"5% Tax and 5% Inssurance\")\n",
        "    tax=(cp*5)//100\n",
        "    print(\"Tax to be paid: \",tax)\n",
        "    inssurance=(cp*5)//100\n",
        "    print(\"inssurance to be paid: \",inssurance)\n",
        "else:\n",
        "    pirnt(\"Enter valid credentials\")\n",
        "\n"
      ]
    },
    {
      "cell_type": "markdown",
      "id": "978dc623",
      "metadata": {
        "id": "978dc623"
      },
      "source": [
        "\n",
        "Loop Questions:\n",
        "\n",
        "1.\tAccept 10 integers from user  and print their average value on the screen"
      ]
    },
    {
      "cell_type": "code",
      "execution_count": null,
      "id": "e49ee0bd",
      "metadata": {
        "id": "e49ee0bd",
        "outputId": "788db8b7-a4c0-4907-9e0c-346acbfdbf50"
      },
      "outputs": [
        {
          "name": "stdout",
          "output_type": "stream",
          "text": [
            "Number entered is: 2\n",
            "Number entered is: 3\n",
            "Number entered is: 4\n",
            "Number entered is: 5\n",
            "Number entered is: 6\n",
            "Number entered is: 5\n",
            "Number entered is: 4\n",
            "Number entered is: 3\n",
            "Number entered is: 2\n",
            "Number entered is: 3\n",
            "average of numbers entered is:  3\n"
          ]
        }
      ],
      "source": [
        "total=0\n",
        "for i in range(10):\n",
        "    num=int(input(\"Number entered is: \"))\n",
        "    total=total+num\n",
        "avg=total//10\n",
        "print(\"average of numbers entered is: \",avg)"
      ]
    },
    {
      "cell_type": "markdown",
      "id": "dd7f6572",
      "metadata": {
        "id": "dd7f6572"
      },
      "source": [
        "2.\tPrint the following patterns using loop :\n",
        "a.\n",
        "*\n",
        "**\n",
        "***\n",
        "****"
      ]
    },
    {
      "cell_type": "code",
      "execution_count": null,
      "id": "1450b4a2",
      "metadata": {
        "id": "1450b4a2",
        "outputId": "83940123-c929-4402-cbd0-37f0df378a7d"
      },
      "outputs": [
        {
          "name": "stdout",
          "output_type": "stream",
          "text": [
            "enter any number5\n",
            "*\n",
            "**\n",
            "***\n",
            "****\n"
          ]
        }
      ],
      "source": [
        "n=int(input(\"enter any number\"))\n",
        "for i in range(1,n):\n",
        "    print('*'*i)\n"
      ]
    },
    {
      "cell_type": "markdown",
      "id": "11982dba",
      "metadata": {
        "id": "11982dba"
      },
      "source": [
        "\n",
        "    *                    \n",
        "  ***                \n",
        "*****\n",
        "  ***\n",
        "    *"
      ]
    },
    {
      "cell_type": "code",
      "execution_count": null,
      "id": "00650e34",
      "metadata": {
        "id": "00650e34",
        "outputId": "778c9e0e-c7aa-4f44-e1aa-045699a56360",
        "colab": {
          "base_uri": "https://localhost:8080/"
        }
      },
      "outputs": [
        {
          "output_type": "stream",
          "name": "stdout",
          "text": [
            "enter any number7\n",
            "      *\n",
            "    ***\n",
            "  *****\n",
            "*******\n",
            "  *****\n",
            "    ***\n",
            "      *\n"
          ]
        }
      ],
      "source": [
        "n=int(input(\"enter any number\"))\n",
        "sp=n-1\n",
        "for i in range (1,n+1,2):\n",
        "    print(' '*sp,'*'*i,sep=\"\")\n",
        "    sp=sp-2\n",
        "sp=2\n",
        "for j in range(n-2,0,-2):\n",
        "    print(' '*sp,'*'*j,sep=\"\")\n",
        "    sp=sp+2\n",
        "\n"
      ]
    },
    {
      "cell_type": "markdown",
      "id": "08b0e058",
      "metadata": {
        "id": "08b0e058"
      },
      "source": [
        "Q. Write a program to find greatest common divisor (GCD) or highest common factor (HCF) of given two numbers."
      ]
    },
    {
      "cell_type": "code",
      "execution_count": null,
      "id": "c384793f",
      "metadata": {
        "id": "c384793f",
        "colab": {
          "base_uri": "https://localhost:8080/"
        },
        "outputId": "1e482268-e3b9-4fe6-dbd9-641bfb17d129"
      },
      "outputs": [
        {
          "output_type": "stream",
          "name": "stdout",
          "text": [
            "Enter first number : 48\n",
            "Enter second number : 60\n",
            "gcd is :  12\n"
          ]
        }
      ],
      "source": [
        "num1=int(input(\"Enter first number : \"))\n",
        "num2=int(input(\"Enter second number : \"))\n",
        "if num1>num2:\n",
        "   s=num2\n",
        "else:\n",
        "   s=num1\n",
        "for i in range(1,s+1):\n",
        "    if(num1%i==0)and(num2%i==0):\n",
        "        gcd=i\n",
        "print(\"gcd is : \",gcd)\n"
      ]
    },
    {
      "cell_type": "markdown",
      "source": [
        "Take integer inputs from user until he/she presses q ( Ask to press q to quit after every integer input ). Print average and product of all numbers."
      ],
      "metadata": {
        "id": "n2ccZ0FbK-PZ"
      },
      "id": "n2ccZ0FbK-PZ"
    },
    {
      "cell_type": "code",
      "source": [
        "total=0\n",
        "count=0\n",
        "product=1\n",
        "while(1):\n",
        "   n=input(\"Enter number press q to quit :\")\n",
        "   if(n=='q')or(n=='Q'):\n",
        "      break\n",
        "   else:\n",
        "      n=int(n)\n",
        "      total=total+n\n",
        "      count=count+1\n",
        "      product=product*n\n",
        "print(\"Sum of numbers eneterd is: \",total)\n",
        "avg=total//count\n",
        "print(\"Avg of numbers entered is: \",avg)\n",
        "print(\"Product of numbers entered is: \",product)"
      ],
      "metadata": {
        "colab": {
          "base_uri": "https://localhost:8080/"
        },
        "id": "cOBMiXR0LKJJ",
        "outputId": "c2f0c558-5993-4398-ee30-efc7fe369efa"
      },
      "id": "cOBMiXR0LKJJ",
      "execution_count": null,
      "outputs": [
        {
          "output_type": "stream",
          "name": "stdout",
          "text": [
            "Enter number press q to quit :2\n",
            "Enter number press q to quit :3\n",
            "Enter number press q to quit :4\n",
            "Enter number press q to quit :5\n",
            "Enter number press q to quit :6\n",
            "Enter number press q to quit :q\n",
            "Sum of numbers eneterd is:  20\n",
            "Avg of numbers entered is:  4\n",
            "Product of numbers entered is:  720\n"
          ]
        }
      ]
    },
    {
      "cell_type": "markdown",
      "source": [
        "Given a number count the total number of digits in a number and also find sum of digits of the number."
      ],
      "metadata": {
        "id": "5WyJGBiDa9YM"
      },
      "id": "5WyJGBiDa9YM"
    },
    {
      "cell_type": "code",
      "source": [
        "t=0\n",
        "num=input(\"enter any number : It has to be greater than 3 digits : \")\n",
        "l=len(num)\n",
        "n=int(num)\n",
        "for i in range(0,l):\n",
        "    d=n%10\n",
        "    n=n//10\n",
        "    t=t+d\n",
        "print(\"sum = \",t)"
      ],
      "metadata": {
        "colab": {
          "base_uri": "https://localhost:8080/"
        },
        "id": "dQuNeq6yj1hT",
        "outputId": "e4bd9a9d-b888-4212-a990-e7f7c8441820"
      },
      "id": "dQuNeq6yj1hT",
      "execution_count": null,
      "outputs": [
        {
          "output_type": "stream",
          "name": "stdout",
          "text": [
            "enter any number : It has to be greater than 3 digits : 1234567\n",
            "sum =  28\n"
          ]
        }
      ]
    },
    {
      "cell_type": "markdown",
      "source": [
        "To display the cube of the number upto given an integer. If the given integer is 5, then display cube of 1 to 4."
      ],
      "metadata": {
        "id": "CKlzT5kVsGla"
      },
      "id": "CKlzT5kVsGla"
    },
    {
      "cell_type": "code",
      "source": [
        "n=int(input(\"Enter the number : \"))\n",
        "for i in range (1,n+1):\n",
        "    cube=i*i*i\n",
        "    print(\"Cube of\",i,\" = \",cube)"
      ],
      "metadata": {
        "colab": {
          "base_uri": "https://localhost:8080/"
        },
        "id": "YIef2vJisMSZ",
        "outputId": "af05a7aa-54a1-4fa1-cd42-281ead87aa85"
      },
      "id": "YIef2vJisMSZ",
      "execution_count": null,
      "outputs": [
        {
          "output_type": "stream",
          "name": "stdout",
          "text": [
            "Enter the number : 5\n",
            "Cube of 1  =  1\n",
            "Cube of 2  =  8\n",
            "Cube of 3  =  27\n",
            "Cube of 4  =  64\n",
            "Cube of 5  =  125\n"
          ]
        }
      ]
    },
    {
      "cell_type": "markdown",
      "source": [
        "Accept 20 numbers from user and display sum of only even numbers."
      ],
      "metadata": {
        "id": "zIKVSkL7s7Dw"
      },
      "id": "zIKVSkL7s7Dw"
    },
    {
      "cell_type": "code",
      "source": [
        "t=0\n",
        "for i in range(0,20):\n",
        "    n=int(input(\"Enter num : \"))\n",
        "    if n%2==0:\n",
        "        t=t+n\n",
        "print(\"Sum of even numbers entered is : \",t)"
      ],
      "metadata": {
        "colab": {
          "base_uri": "https://localhost:8080/"
        },
        "id": "4LCFFgDUtABa",
        "outputId": "c9752a6b-154f-4d6c-bfeb-c7c1bc2f2988"
      },
      "id": "4LCFFgDUtABa",
      "execution_count": null,
      "outputs": [
        {
          "output_type": "stream",
          "name": "stdout",
          "text": [
            "Enter num : 2\n",
            "Enter num : 3\n",
            "Enter num : 4\n",
            "Enter num : 5\n",
            "Enter num : 6\n",
            "Enter num : 2\n",
            "Enter num : 3\n",
            "Enter num : 4\n",
            "Enter num : 5\n",
            "Enter num : 6\n",
            "Enter num : 2\n",
            "Enter num : 3\n",
            "Enter num : 4\n",
            "Enter num : 5\n",
            "Enter num : 6\n",
            "Enter num : 2\n",
            "Enter num : 3\n",
            "Enter num : 4\n",
            "Enter num : 5\n",
            "Enter num : 6\n",
            "Sum of even numbers entered is :  48\n"
          ]
        }
      ]
    },
    {
      "cell_type": "markdown",
      "source": [
        "\tAsk user number of terms to be generated of a series.\n",
        "generate numbers for the following series and find its addition\n",
        "[9 + 99 + 999 + 9999+……..]"
      ],
      "metadata": {
        "id": "g4iGQkfWucD1"
      },
      "id": "g4iGQkfWucD1"
    },
    {
      "cell_type": "code",
      "source": [
        "t=0\n",
        "n=int(input(\"Enter the number of digits you want in series : \"))\n",
        "for i in range (0,n+1):\n",
        "    j='9'*i\n",
        "    print(j ,\"+\",end=\"\")\n",
        "m=int(j)\n",
        "t=((10**(n+1))-(9*n)-10)//9\n",
        "print(\"  SUM = :\",t)\n",
        "\n",
        "\n",
        "\n",
        "\n"
      ],
      "metadata": {
        "colab": {
          "base_uri": "https://localhost:8080/"
        },
        "id": "Yw7YtyLIxy7C",
        "outputId": "7474cb6f-c4dd-4c6e-fba0-d82bea95ea92"
      },
      "id": "Yw7YtyLIxy7C",
      "execution_count": null,
      "outputs": [
        {
          "output_type": "stream",
          "name": "stdout",
          "text": [
            "Enter the number of digits you want in series : 5\n",
            " +9 +99 +999 +9999 +99999 +  SUM = : 111105\n"
          ]
        }
      ]
    },
    {
      "cell_type": "markdown",
      "source": [
        "Write a program in python to display the sum of the series [ 1+x+x^2/2!+x^3/3!+....]. Go to the editor\n",
        "Test Data :\n",
        "Input the value of x :3 Input number of terms : 5 Expected Output :\n",
        "The sum is : 16.375000\n"
      ],
      "metadata": {
        "id": "y7npYl1CfDV6"
      },
      "id": "y7npYl1CfDV6"
    },
    {
      "cell_type": "code",
      "source": [
        "import math\n",
        "t=0\n",
        "n=int(input(\"Enter the number of digits you want in series : \"))\n",
        "x=int(input(\"Enter the value of x : \"))\n",
        "for i in range(0,n):\n",
        "      j=((x**i)/math.factorial(i))\n",
        "      print(j,'+',end= \" \")\n",
        "      t=t+j\n",
        "print(\"Sum is :\",t)\n"
      ],
      "metadata": {
        "colab": {
          "base_uri": "https://localhost:8080/"
        },
        "id": "aZrkBGtVfJo3",
        "outputId": "88ed67b8-a89e-4980-ee2e-85992e153df1"
      },
      "id": "aZrkBGtVfJo3",
      "execution_count": null,
      "outputs": [
        {
          "output_type": "stream",
          "name": "stdout",
          "text": [
            "Enter the number of digits you want in series : 5\n",
            "Enter the value of x : 3\n",
            "1.0 + 3.0 + 4.5 + 4.5 + 3.375 + Sum is : 16.375\n"
          ]
        }
      ]
    },
    {
      "cell_type": "markdown",
      "source": [
        "Write a program in python to find the sum of the series [ x - x^3 + x^5 –x^7+x^9-x^11+ ......]. Go to the editor\n",
        "Test Data :\n",
        "Input the value of x :2 Input number of terms : 5 Expected Output :\n",
        "The values of the series:\n",
        "2\n",
        "-8\n",
        "32\n",
        "-128\n",
        "512\n",
        "The sum = 410"
      ],
      "metadata": {
        "id": "HOyWnuSkPylL"
      },
      "id": "HOyWnuSkPylL"
    },
    {
      "cell_type": "code",
      "source": [
        "t=0\n",
        "o=1\n",
        "k=0\n",
        "n=int(input(\"Enter the number of terms you want in series : \"))\n",
        "x=int(input(\"Enter the value of x : \"))\n",
        "for i in range(1,n+1):\n",
        "      if i %2!=0:\n",
        "           j=(x**o)\n",
        "           print(j,end=\" \")\n",
        "           t=t+j\n",
        "      else:\n",
        "           k=-(x**o)\n",
        "           print(k,\"+\",end=\" \")\n",
        "           t=t+k\n",
        "      o=o+2\n",
        "print(\"Sum is :\",t)\n"
      ],
      "metadata": {
        "colab": {
          "base_uri": "https://localhost:8080/"
        },
        "id": "68gVf7MWP5Fe",
        "outputId": "0c468995-2337-4162-8df4-567799960262"
      },
      "id": "68gVf7MWP5Fe",
      "execution_count": null,
      "outputs": [
        {
          "output_type": "stream",
          "name": "stdout",
          "text": [
            "Enter the number of terms you want in series : 5\n",
            "Enter the value of x : 2\n",
            "2 -8 + 32 -128 + 512 Sum is : 410\n"
          ]
        }
      ]
    },
    {
      "cell_type": "markdown",
      "source": [
        "Take a number from user and check if it is prime or not"
      ],
      "metadata": {
        "id": "wpG01Z10WUPe"
      },
      "id": "wpG01Z10WUPe"
    },
    {
      "cell_type": "code",
      "source": [
        "no=11\n",
        "num=int(input(\"Enter any number :\"))\n",
        "for num in range(no):\n",
        "    if num > 1:\n",
        "        if no % num ==0:\n",
        "            print(\"Not prime\")\n",
        "            break\n",
        "else:\n",
        "    print(\"Prime\")"
      ],
      "metadata": {
        "id": "ulkinCIxWbjk",
        "outputId": "024d38fd-1529-4ea0-fbb4-eb9293819647",
        "colab": {
          "base_uri": "https://localhost:8080/"
        }
      },
      "id": "ulkinCIxWbjk",
      "execution_count": null,
      "outputs": [
        {
          "output_type": "stream",
          "name": "stdout",
          "text": [
            "Enter any number :5\n",
            "Prime\n"
          ]
        }
      ]
    },
    {
      "cell_type": "markdown",
      "source": [
        "Take a number from user and print sum of all odd numbers till that number.\n",
        "Ex. Enter a no : 10   \n",
        "Sum of all odd numbers till 10 : 1+3+5+7+9  =25"
      ],
      "metadata": {
        "id": "rQZKWjWqbDUk"
      },
      "id": "rQZKWjWqbDUk"
    },
    {
      "cell_type": "code",
      "source": [
        "t=0\n",
        "num=int(input(\"Enter any number : \"))\n",
        "for i in range (1,num):\n",
        "    if(i%2!=0):\n",
        "       print(i,\"+\",end=\" \")\n",
        "       t=t+i\n",
        "print(\"=\",t)"
      ],
      "metadata": {
        "id": "dmWeLZtUbLFh",
        "outputId": "3380678e-22de-45e3-b189-1c3a3bcc24d6",
        "colab": {
          "base_uri": "https://localhost:8080/"
        }
      },
      "id": "dmWeLZtUbLFh",
      "execution_count": null,
      "outputs": [
        {
          "output_type": "stream",
          "name": "stdout",
          "text": [
            "Enter any number : 10\n",
            "1 + 3 + 5 + 7 + 9 + = 25\n"
          ]
        }
      ]
    }
  ],
  "metadata": {
    "kernelspec": {
      "display_name": "Python 3 (ipykernel)",
      "language": "python",
      "name": "python3"
    },
    "language_info": {
      "codemirror_mode": {
        "name": "ipython",
        "version": 3
      },
      "file_extension": ".py",
      "mimetype": "text/x-python",
      "name": "python",
      "nbconvert_exporter": "python",
      "pygments_lexer": "ipython3",
      "version": "3.11.4"
    },
    "colab": {
      "provenance": []
    }
  },
  "nbformat": 4,
  "nbformat_minor": 5
}