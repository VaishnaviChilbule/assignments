{
 "cells": [
  {
   "cell_type": "markdown",
   "id": "69bcef15",
   "metadata": {},
   "source": [
    "# Assignment"
   ]
  },
  {
   "cell_type": "markdown",
   "id": "ab3fa470",
   "metadata": {},
   "source": [
    "# SET"
   ]
  },
  {
   "cell_type": "markdown",
   "id": "7baf133f",
   "metadata": {},
   "source": [
    "1. Add a list of elements to a given set\n",
    "Given:\n",
    "sampleSet = {\"Yellow\", \"Orange\", \"Black\"}\n",
    "sampleList = [\"Blue\", \"Green\", \"Red\",”Yellow”,”orange”]"
   ]
  },
  {
   "cell_type": "code",
   "execution_count": 60,
   "id": "3cbcfaf6",
   "metadata": {},
   "outputs": [
    {
     "name": "stdout",
     "output_type": "stream",
     "text": [
      "{'Orange', 'Green', 'orange', 'Yellow', 'Blue', 'Black', 'Red'}\n"
     ]
    }
   ],
   "source": [
    "sampleset = {\"Yellow\", \"Orange\", \"Black\"}\n",
    "sampleList = [\"Blue\", \"Green\", \"Red\", \"Yellow\",\"orange\"]\n",
    "\n",
    "for e in sampleList:\n",
    "              sampleset.add(e)\n",
    "print(sampleset)"
   ]
  },
  {
   "cell_type": "markdown",
   "id": "6608f3dc",
   "metadata": {},
   "source": [
    "2. display common elements from the given set\n",
    "set1 = {10, 20, 30, 40, 50}\n",
    "set2 = {30, 40, 50, 60, 70}"
   ]
  },
  {
   "cell_type": "code",
   "execution_count": 61,
   "id": "1016b022",
   "metadata": {},
   "outputs": [
    {
     "name": "stdout",
     "output_type": "stream",
     "text": [
      "{40, 50, 30}\n"
     ]
    }
   ],
   "source": [
    "set1 = {10, 20, 30, 40, 50}\n",
    "set2 = {30, 40, 50, 60, 70}\n",
    "\n",
    "set1.intersection_update(set2)\n",
    "print(set1)"
   ]
  },
  {
   "cell_type": "markdown",
   "id": "c4298b3d",
   "metadata": {},
   "source": [
    "3. Generate a new set with all items from both sets by removing numbers which are in both sets.\n",
    "set1 = {10, 20, 30, 40, 50,25}\n",
    "set2 = {30, 40, 50, 60, 70,100}\n",
    "o/p : order is not important\n",
    "{70, 10, 20, 60,25,100}"
   ]
  },
  {
   "cell_type": "code",
   "execution_count": 69,
   "id": "f3fb55fe",
   "metadata": {},
   "outputs": [
    {
     "data": {
      "text/plain": [
       "{10, 20, 25, 60, 70, 100}"
      ]
     },
     "execution_count": 69,
     "metadata": {},
     "output_type": "execute_result"
    }
   ],
   "source": [
    "set1 = {10, 20, 30, 40, 50,25}\n",
    "set2 = {30, 40, 50, 60, 70,100}\n",
    "\n",
    "set1.symmetric_difference(set2)\n"
   ]
  },
  {
   "cell_type": "markdown",
   "id": "dd51f43a",
   "metadata": {},
   "source": [
    "4. set of all elements in either A or B, but not both\n",
    "set1 = {10, 20, 30, 40, 50}\n",
    "set2 = {30, 40, 50, 60, 70}\n",
    "Expected output:\n",
    "{20, 70, 10, 60}"
   ]
  },
  {
   "cell_type": "code",
   "execution_count": 70,
   "id": "ba5d8938",
   "metadata": {},
   "outputs": [
    {
     "data": {
      "text/plain": [
       "{10, 20, 60, 70}"
      ]
     },
     "execution_count": 70,
     "metadata": {},
     "output_type": "execute_result"
    }
   ],
   "source": [
    "s1 = {10, 20, 30, 40, 50}\n",
    "s2 = {30, 40, 50, 60, 70}\n",
    "\n",
    "s1.symmetric_difference(s2)"
   ]
  },
  {
   "cell_type": "markdown",
   "id": "7619ad49",
   "metadata": {},
   "source": [
    "5.Update set1 by adding items from set2, except common items\n",
    "set1 = {10, 20, 30, 40, 50}\n",
    "set2 = {30, 40, 50, 60, 70}\n",
    "Expected output:\n",
    "{70, 10, 20, 60}\n"
   ]
  },
  {
   "cell_type": "code",
   "execution_count": 85,
   "id": "854e62ca",
   "metadata": {},
   "outputs": [
    {
     "name": "stdout",
     "output_type": "stream",
     "text": [
      "{20, 70, 10, 60}\n"
     ]
    }
   ],
   "source": [
    "s1 = {10, 20, 30, 40, 50}\n",
    "s2 = {30, 40, 50, 60, 70}\n",
    "\n",
    "\n",
    "s1.symmetric_difference_update(s2)\n",
    "print(s1)"
   ]
  },
  {
   "cell_type": "markdown",
   "id": "88802115",
   "metadata": {},
   "source": [
    "6. Take a sentence as input from user. Every word is seperated by space. Print all unique words from the sentence."
   ]
  },
  {
   "cell_type": "code",
   "execution_count": 4,
   "id": "04550563",
   "metadata": {},
   "outputs": [
    {
     "name": "stdout",
     "output_type": "stream",
     "text": [
      "Enter the sentence :disha , vaishnavi , anuja\n",
      "{'disha', 'anuja', ',', 'vaishnavi'}\n"
     ]
    }
   ],
   "source": [
    "set1=input(\"Enter the sentence :\")\n",
    "s1=set1.split()\n",
    "unique_word=set(s1)\n",
    "print(unique_word)"
   ]
  },
  {
   "cell_type": "markdown",
   "id": "8dcee479",
   "metadata": {},
   "source": [
    "# TUPLE"
   ]
  },
  {
   "cell_type": "markdown",
   "id": "6b971fdc",
   "metadata": {},
   "source": [
    "1. Reverse the following tuple\n",
    "aTuple = (10, 20, 30, 40, 50,60)\n",
    "Expected output:\n",
    "(60,50, 40, 30, 20, 10)\n"
   ]
  },
  {
   "cell_type": "code",
   "execution_count": 90,
   "id": "4903c677",
   "metadata": {},
   "outputs": [
    {
     "data": {
      "text/plain": [
       "(60, 50, 40, 30, 20, 10)"
      ]
     },
     "execution_count": 90,
     "metadata": {},
     "output_type": "execute_result"
    }
   ],
   "source": [
    "aTuple = (10, 20, 30, 40, 50,60)\n",
    "aTuple[::-1]"
   ]
  },
  {
   "cell_type": "markdown",
   "id": "0cd1ab0f",
   "metadata": {},
   "source": [
    "2. display value 20 from the following tuple\n",
    "aTuple = (\"Orange\", [10, 20, 30], (5, 15, 25))"
   ]
  },
  {
   "cell_type": "code",
   "execution_count": 91,
   "id": "e9ce0afa",
   "metadata": {},
   "outputs": [
    {
     "data": {
      "text/plain": [
       "20"
      ]
     },
     "execution_count": 91,
     "metadata": {},
     "output_type": "execute_result"
    }
   ],
   "source": [
    "aTuple = (\"Orange\", [10, 20, 30], (5, 15, 25))\n",
    "aTuple[1][1]"
   ]
  },
  {
   "cell_type": "markdown",
   "id": "446e4180",
   "metadata": {},
   "source": [
    "3. Unpack the following tuple into 4 variables\n",
    "aTuple = (10, 20, 30, 40)"
   ]
  },
  {
   "cell_type": "code",
   "execution_count": 94,
   "id": "396a46f8",
   "metadata": {},
   "outputs": [
    {
     "name": "stdout",
     "output_type": "stream",
     "text": [
      "x= 10 y= 20 z= 30 w= 40\n"
     ]
    }
   ],
   "source": [
    "aTuple=(10,20,30,40)\n",
    "x,y,z,w=aTuple\n",
    "print(\"x=\",x,\"y=\",y,\"z=\",z,\"w=\",w)"
   ]
  },
  {
   "cell_type": "markdown",
   "id": "c982bec1",
   "metadata": {},
   "source": [
    "4. Swap the following two tuples\n",
    "tuple1 = (11, 22)\n",
    "tuple2 = (99, 88)\n",
    "Expected output:\n",
    "tuple1 = (99, 88)\n",
    "tuple2 = (11, 22)"
   ]
  },
  {
   "cell_type": "code",
   "execution_count": 100,
   "id": "008b4b5f",
   "metadata": {},
   "outputs": [
    {
     "name": "stdout",
     "output_type": "stream",
     "text": [
      "(99, 88) (11, 22)\n"
     ]
    }
   ],
   "source": [
    "tuple1 = (11, 22)\n",
    "tuple2 = (99, 88)\n",
    "\n",
    "t=tuple1\n",
    "tuple1=tuple2\n",
    "tuple2=t\n",
    "print(tuple1,tuple2)"
   ]
  },
  {
   "cell_type": "markdown",
   "id": "149ef657",
   "metadata": {},
   "source": [
    "5. Copy element 44 and 55 from the following tuple into a new tuple\n",
    "tuple1 = (11, 22, 33, 44, 55, 66)\n",
    "Expected output:\n",
    "tuple2: (44, 55)"
   ]
  },
  {
   "cell_type": "code",
   "execution_count": 107,
   "id": "a0b9e9d5",
   "metadata": {},
   "outputs": [
    {
     "name": "stdout",
     "output_type": "stream",
     "text": [
      "[(44, 55)]\n"
     ]
    }
   ],
   "source": [
    "tuple1 = (11, 22, 33, 44, 55, 66)\n",
    "t=[]\n",
    "\n",
    "t.append(tuple1[3:-1])\n",
    "print(t)"
   ]
  },
  {
   "cell_type": "markdown",
   "id": "c40c9ab3",
   "metadata": {},
   "source": [
    "6. Modify the first item (22) of a list inside a following tuple to 200\n",
    "tuple1 = (11, [22, 33], 44, 55)\n",
    "Expected output:\n",
    "tuple1: (11, [200, 33], 44, 55)"
   ]
  },
  {
   "cell_type": "code",
   "execution_count": 95,
   "id": "0f78349a",
   "metadata": {},
   "outputs": [
    {
     "name": "stdout",
     "output_type": "stream",
     "text": [
      "(11, [200, 33], 44, 55)\n"
     ]
    }
   ],
   "source": [
    "tuple1 = (11, [22, 33], 44, 55)\n",
    "tuple1[1][0]=200\n",
    "print(tuple1)"
   ]
  },
  {
   "cell_type": "markdown",
   "id": "81371fc9",
   "metadata": {},
   "source": [
    "7. Take two integer values in a & b. Swap their values using tuple, using temparary variable and without tuple and without temparary variable.\n",
    "Ex. a=10 b=23\n",
    "After swapping a=23 b=10\n"
   ]
  },
  {
   "cell_type": "code",
   "execution_count": 96,
   "id": "b31c8d1f",
   "metadata": {},
   "outputs": [
    {
     "name": "stdout",
     "output_type": "stream",
     "text": [
      "23 10\n"
     ]
    }
   ],
   "source": [
    "a=10\n",
    "b=23\n",
    "a,b=b,a\n",
    "print(a,b)"
   ]
  },
  {
   "cell_type": "code",
   "execution_count": 99,
   "id": "b196c1f7",
   "metadata": {},
   "outputs": [
    {
     "name": "stdout",
     "output_type": "stream",
     "text": [
      "20 10\n"
     ]
    }
   ],
   "source": [
    "a=10\n",
    "b=20\n",
    "t=a\n",
    "a=b\n",
    "b=t\n",
    "print(a,b)"
   ]
  },
  {
   "cell_type": "markdown",
   "id": "853266d5",
   "metadata": {},
   "source": [
    "# DICTIONARY"
   ]
  },
  {
   "cell_type": "markdown",
   "id": "3568025b",
   "metadata": {},
   "source": [
    "1. In cryptography, a Caesar cipher is a very simple encryption techniques in which each letter in the plain text is replaced by a letter some fixed number of positions down the alphabet. For example, with a shift of 3, A would be replaced by D, B would become E, and so on. The method is named after Julius Caesar, who used it to communicate with his generals. ROT-13 (\"rotate by 13 places\") is a widely used\n",
    "example of a Caesar cipher where the shift is 13. In Python, the key for ROT-13 may be represented by means of the following dictionary\n",
    "{'a':'n', 'b':'o', 'c':'p', 'd':'q', 'e':'r', 'f':'s', 'g':'t', 'h':'u', 'i':'v', 'j':'w', 'k':'x', 'l':'y', 'm':'z', 'n':'a', 'o':'b', 'p':'c',\n",
    "'q':'d', 'r':'e', 's':'f', 't':'g', 'u':'h', 'v':'i', 'w':'j', 'x':'k', 'y':'l', 'z':'m', 'A':'N', 'B':'O', 'C':'P', 'D':'Q', 'E':'R', 'F':'S', 'G':'T', 'H':'U', 'I':'V', 'J':'W', 'K':'X', 'L':'Y', 'M':'Z', 'N':'A', 'O':'B', 'P':'C', 'Q':'D', 'R':'E', 'S':'F', 'T':'G', 'U':'H', 'V':'I', 'W':'J', 'X':'K', 'Y':'L', 'Z':'M'}\n",
    "Your task in this exercise is to implement an encoder/decoder of ROT-13. Once you're done, you will be able to read the following secret message:\n",
    "Pnrfne pvcure? V zhpu cersre Pnrfne fnynq!\n",
    "Note that since English has 26 characters, your ROT-13 program will be able to both encode and decode texts written in English.\n"
   ]
  },
  {
   "cell_type": "code",
   "execution_count": 1,
   "id": "74ca5079",
   "metadata": {},
   "outputs": [
    {
     "name": "stdout",
     "output_type": "stream",
     "text": [
      "Enter the messageduskjgfauy uylg **\n"
     ]
    },
    {
     "data": {
      "text/plain": [
       "'qhfxwtsnhl hlyt **'"
      ]
     },
     "execution_count": 1,
     "metadata": {},
     "output_type": "execute_result"
    }
   ],
   "source": [
    " dictionary={'a':'n', 'b':'o', 'c':'p', 'd':'q', 'e':'r', 'f':'s', 'g':'t', \n",
    "  'h':'u', 'i':'v', 'j':'w', 'k':'x', 'l':'y', 'm':'z', 'n':'a', \n",
    "  'o':'b', 'p':'c', 'q':'d', 'r':'e', 's':'f', 't':'g', 'u':'h',\n",
    "  'v':'i', 'w':'j', 'x':'k', 'y':'l', 'z':'m', 'A':'N', 'B':'O', \n",
    "  'C':'P', 'D':'Q', 'E':'R', 'F':'S', 'G':'T', 'H':'U', 'I':'V', \n",
    "  'J':'W', 'K':'X', 'L':'Y', 'M':'Z', 'N':'A', 'O':'B', 'P':'C', \n",
    "  'Q':'D', 'R':'E', 'S':'F', 'T':'G', 'U':'H', 'V':'I', 'W':'J', \n",
    "  'X':'K', 'Y':'L', 'Z':'M'}\n",
    "\n",
    "\n",
    "\n",
    "s=input(\"Enter the message\")\n",
    "new_msg=\"\"\n",
    "for char in s:\n",
    "    if(char in dictionary):\n",
    "        new_char=dictionary[char]\n",
    "    else:\n",
    "        new_char=char\n",
    "    \n",
    "    new_msg = new_msg + new_char\n",
    "new_msg"
   ]
  },
  {
   "cell_type": "markdown",
   "id": "9797c522",
   "metadata": {},
   "source": [
    "2. Given a dictionary of students and their favourite colours:\n",
    "people={'Arham':'Blue','Lisa':'Yellow',''Vinod:'Purple','Jenny':'Pink'}\n",
    "a. Find out how many students are in the list\n",
    "b. Change Lisa’s favourite colour\n",
    "c. Remove 'Jenny' and her favourite colour\n"
   ]
  },
  {
   "cell_type": "code",
   "execution_count": 113,
   "id": "fbe32609",
   "metadata": {},
   "outputs": [
    {
     "name": "stdout",
     "output_type": "stream",
     "text": [
      "4\n",
      "{'Arham': 'Blue', 'Lisa': 'Yellow', 'Vinod': 'Purple', 'Jenny': 'Pink', 'Yellow': 'Green'}\n",
      "{'Arham': 'Blue', 'Lisa': 'Yellow', 'Vinod': 'Purple', 'Yellow': 'Green'}\n"
     ]
    }
   ],
   "source": [
    "people={'Arham':'Blue','Lisa':'Yellow','Vinod':'Purple','Jenny':'Pink'}\n",
    "\n",
    "print(len(people))\n",
    "\n",
    "people.update(Yellow='Green')\n",
    "print(people)\n",
    "\n",
    "del people['Jenny']\n",
    "print(people)"
   ]
  },
  {
   "cell_type": "markdown",
   "id": "a6698355",
   "metadata": {},
   "source": [
    "4. Sort and print students and their favourite colours alphabetically by name"
   ]
  },
  {
   "cell_type": "code",
   "execution_count": 2,
   "id": "c5475efd",
   "metadata": {},
   "outputs": [
    {
     "name": "stdout",
     "output_type": "stream",
     "text": [
      "['Arham', 'Jenny', 'Lisa', 'Vinod']\n",
      "{'Arham': 'Blue', 'Jenny': 'Pink', 'Lisa': 'Yellow', 'Vinod': 'Purple'}\n"
     ]
    }
   ],
   "source": [
    "people={'Arham':'Blue','Lisa':'Yellow','Vinod':'Purple','Jenny':'Pink'}\n",
    "names = list(people)\n",
    "names=sorted(names)\n",
    "print(names)\n",
    "sorted_people={}\n",
    "for name in names:\n",
    "     sorted_people[name]=people[name]\n",
    "print(sorted_people)"
   ]
  },
  {
   "cell_type": "markdown",
   "id": "f6cad8f4",
   "metadata": {},
   "source": [
    "3. Write a menu driven program to practice Dictionary functions.\n",
    "Write a program to accept name of a person and their vehicle and store it in a dictionary.\n",
    "Ask user if they want to continue to accept multiple values.\n",
    "Display following menu:\n",
    "a. Add new person name and a vehicle name.\n",
    "b. Delete a person name and vehicle name from the dictionary.\n",
    "----Accept person name from user.\n",
    "----Check whether person name exists in the dictionary.\n",
    "----If exists show person name and vehicle name to the user.\n",
    "----Confirm for deletion, if user enters y\n",
    "then delete otherwise no. Display appropriate message.\n",
    "c. Modify vehicle name for the person\n",
    "----Accept a person name from user.\n",
    "----Check whether the person’s name exists.\n",
    "----If the name exists, show the person’s name and vehicle name to user.\n",
    "Ask for new value and then overwrite the old value.\n",
    "d. Search vehicle for the given person’s name.\n",
    "e. Search list of people, who have given a vehicle\n",
    "f. Display all person names.\n",
    "g. Display all vehicle names.\n",
    "h. Exit\n"
   ]
  },
  {
   "cell_type": "code",
   "execution_count": 1,
   "id": "2df0d2ca",
   "metadata": {},
   "outputs": [
    {
     "name": "stdout",
     "output_type": "stream",
     "text": [
      "Caesar cipher? I much prefer Caesar salad!\n"
     ]
    }
   ],
   "source": [
    "trans={'a':'n', 'b':'o', 'c':'p', 'd':'q', 'e':'r', 'f':'s', 'g':'t',\n",
    "       'h':'u', 'i':'v', 'j':'w', 'k':'x', 'l':'y', 'm':'z', 'n':'a',\n",
    "       'o':'b', 'p':'c','q':'d', 'r':'e', 's':'f', 't':'g', 'u':'h',\n",
    "       'v':'i', 'w':'j', 'x':'k', 'y':'l', 'z':'m', 'A':'N', 'B':'O',\n",
    "       'C':'P', 'D':'Q', 'E':'R', 'F':'S', 'G':'T', 'H':'U', 'I':'V',\n",
    "       'J':'W', 'K':'X', 'L':'Y', 'M':'Z', 'N':'A', 'O':'B', 'P':'C',\n",
    "       'Q':'D', 'R':'E', 'S':'F', 'T':'G', 'U':'H', 'V':'I', 'W':'J',\n",
    "       'X':'K', 'Y':'L', 'Z':'M'}\n",
    "s=\"Pnrfne pvcure? V zhpu cersre Pnrfne fnynq!\"\n",
    "new_m= \"\"\n",
    "for char in s:\n",
    "    if char.isalpha() == False:\n",
    "        new_c=char\n",
    "    else:\n",
    "        new_c=trans[char]\n",
    "    new_m=new_m+new_c\n",
    "print(new_m)"
   ]
  },
  {
   "cell_type": "markdown",
   "id": "23cdba1e",
   "metadata": {},
   "source": [
    "4. Write a program to display following menu and do the following:\n",
    "a. Add new city and trees commonly found in the city.\n",
    "b. Display all cities and the list of trees for all cities.\n",
    "c. Display list of trees of a particular city.\n",
    "---- Accept a city from user search city and if found display list of trees otherwise\n",
    "---- Display message not found\n",
    "d. Display cities which have the given tree.\n",
    "---- Accept a tree name from user and display all cities in which the tree is found.\n",
    "e. Delete city ---- Accept city from user and delete the city if found.\n",
    "---- Prompt user before deletion\n",
    "f. Modify tree list\n",
    "---- Accept city and trees to be added in the city. if city exist add trees at the end of the list\n",
    "---- Otherwise add city and list\n",
    "g. Exit\n",
    "   \n",
    "\n",
    "\n",
    "    \n"
   ]
  },
  {
   "cell_type": "code",
   "execution_count": null,
   "id": "b269b173",
   "metadata": {},
   "outputs": [],
   "source": [
    "print(\"\"\"\n",
    "a. Add new city and trees commonly found in the city.\n",
    "b. Display all cities and the list of trees for all cities.\n",
    "c. Display list of trees of a particular city.\n",
    "d. Display cities which have the given tree.\n",
    "e. Delete city ---- Accept city from user and delete the city if found\n",
    "f. Modify tree list ---- Accept city and trees to be added in the city.\n",
    "g. Exit\"\"\")\n",
    "dist={}\n",
    "while True:\n",
    "    case1 = input()\n",
    "    match case1:\n",
    "        case 'a':\n",
    "            city= input(\"City Name:- \")\n",
    "            trees = input(\"Commonly Found tree name:- \")\n",
    "            trees.split(\" \")\n",
    "            dist[city]=trees\n",
    "        case 'b':\n",
    "            print(dist.items())\n",
    "        case 'c':\n",
    "            city= input(\"Enter City Name to get Tree name:- \")\n",
    "            print(dist.get(city))\n",
    "        case 'd':\n",
    "            trees= input(\"Enter Tree name:- \")\n",
    "            for k,v in dist.items():\n",
    "                      if  trees in v:\n",
    "                            print(\"City having given tree is \",k)\n",
    "        case 'e':\n",
    "            city= input(\"Enter City Name to Delete:- \")\n",
    "            if city in dist:\n",
    "                print(dist.pop(city))\n",
    "        case 'g':\n",
    "            break\n",
    "            print(\"Exited\")"
   ]
  },
  {
   "cell_type": "markdown",
   "id": "6936040e",
   "metadata": {},
   "source": [
    "5. Take a sentence as input from user. Every word is seperated by space. \n",
    "a. Create a word_count dictionary which will have unique words and their count. \n",
    "\n",
    "b. create suffix_count dictionary which will contain count of words ending with 's', 'es', 'ed', 'y', 'en' , etc.\n",
    "\n",
    "c. create dictionary word_length_count which will store length of word and count.\n",
    "Ex. \n",
    "input_sent= 'CDAC is in Pune'\n",
    "There are 2 words of length 4 and 2 words of length 2 so,\n",
    "word_length_count = {2:2, 4:2}\n"
   ]
  },
  {
   "cell_type": "code",
   "execution_count": 5,
   "id": "a3e1fa15",
   "metadata": {},
   "outputs": [
    {
     "name": "stdout",
     "output_type": "stream",
     "text": [
      "enter the sentence :CDAC is in Pune\n",
      "{'is': 1, 'in': 1, 'cdac': 1, 'pune': 1}\n"
     ]
    }
   ],
   "source": [
    "sentence=input(\"enter the sentence :\")\n",
    "words=sentence.lower().split()\n",
    "unique_words=set(words)\n",
    "word_count={}\n",
    "for word in unique_words:\n",
    "    word_count[word]=words.count(word)\n",
    "print(word_count)"
   ]
  },
  {
   "cell_type": "code",
   "execution_count": null,
   "id": "bf1562a5",
   "metadata": {},
   "outputs": [],
   "source": []
  }
 ],
 "metadata": {
  "kernelspec": {
   "display_name": "Python 3 (ipykernel)",
   "language": "python",
   "name": "python3"
  },
  "language_info": {
   "codemirror_mode": {
    "name": "ipython",
    "version": 3
   },
   "file_extension": ".py",
   "mimetype": "text/x-python",
   "name": "python",
   "nbconvert_exporter": "python",
   "pygments_lexer": "ipython3",
   "version": "3.11.4"
  }
 },
 "nbformat": 4,
 "nbformat_minor": 5
}
